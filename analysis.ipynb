{
 "cells": [
  {
   "cell_type": "markdown",
   "metadata": {},
   "source": [
    "# Preparation"
   ]
  },
  {
   "cell_type": "code",
   "execution_count": 1,
   "metadata": {},
   "outputs": [],
   "source": [
    "import sys, os, glob\n",
    "import singlepulse as sp\n",
    "import pandas as pd\n",
    "import matplotlib.pyplot as plt\n",
    "import matplotlib.gridspec as gridspec\n",
    "import matplotlib as mpl\n",
    "from tkinter.filedialog import askopenfilenames\n",
    "from datetime import datetime\n",
    "\n",
    "mpl.rcParams['text.usetex'] = True\n",
    "mpl.rcParams['font.family'] = 'serif'\n",
    "mpl.rcParams['font.serif'] = ['Computer Modern'] # oder eine andere LaTeX-Schriftart\n",
    "mpl.rcParams['text.latex.preamble'] = r'\\usepackage{amsmath}'\n",
    "mpl.rcParams['axes.titlesize'] = 14\n",
    "mpl.rcParams['axes.labelsize'] = 14\n",
    "mpl.rcParams['xtick.labelsize'] = 12\n",
    "mpl.rcParams['ytick.labelsize'] = 12\n",
    "mpl.rcParams['legend.fontsize'] = 12\n",
    "mpl.rcParams['figure.titlesize'] = 20\n",
    "mpl.rcParams['figure.labelsize'] = 14"
   ]
  },
  {
   "cell_type": "code",
   "execution_count": null,
   "metadata": {},
   "outputs": [
    {
     "data": {
      "text/plain": [
       "('/Users/eliasfoisner/Studium/TCH Master/LU Masterarbeit/Data/241022 FourElement Oxidrate + Calibration/Regular/Particles/Eu153 CeO156 Probe4 50Par 15% 10x10 7.csv',)"
      ]
     },
     "execution_count": 2,
     "metadata": {},
     "output_type": "execute_result"
    }
   ],
   "source": [
    "selected_files = askopenfilenames(title=\"Wähle .csv Files zum Bearbeiten aus\", filetypes=[(\"CSV Files\", \"*.csv\")])\n",
    "\n",
    "selected_files\n",
    "print(\"Test\")"
   ]
  },
  {
   "cell_type": "markdown",
   "metadata": {},
   "source": [
    "# Plot many files"
   ]
  },
  {
   "cell_type": "code",
   "execution_count": 4,
   "metadata": {},
   "outputs": [
    {
     "name": "stdout",
     "output_type": "stream",
     "text": [
      "Done: Eu153 CeO156 Probe4 50Par 15% 10x10 7.csv\n",
      "Done: Eu153 CeO156 Probe4 50Par 15% 10x10 7.csv\n",
      "   species  no. of peaks  peak width (10% criterion)  peak width stdev  \\\n",
      "0   Eu/153            29                 3524.019941        226.304172   \n",
      "1  CeO/156            29                 3539.637305        272.478685   \n",
      "\n",
      "   peak height  peak height stdev   peak area  peak area stdev  \n",
      "0   115.218679          25.878967  273.556973        65.482305  \n",
      "1   100.015307          22.165754  231.876452        53.431487  \n"
     ]
    },
    {
     "name": "stderr",
     "output_type": "stream",
     "text": [
      "Address already in use\n",
      "Port 8050 is in use by another program. Either identify and stop that program, or start the server with a different port.\n"
     ]
    },
    {
     "ename": "SystemExit",
     "evalue": "1",
     "output_type": "error",
     "traceback": [
      "An exception has occurred, use %tb to see the full traceback.\n",
      "\u001b[31mSystemExit\u001b[39m\u001b[31m:\u001b[39m 1\n"
     ]
    },
    {
     "name": "stderr",
     "output_type": "stream",
     "text": [
      "/Users/eliasfoisner/PythonProjects/singlepulse/venv/lib/python3.13/site-packages/IPython/core/interactiveshell.py:3557: UserWarning:\n",
      "\n",
      "To exit: use 'exit', 'quit', or Ctrl-D.\n",
      "\n"
     ]
    }
   ],
   "source": [
    "objects = dict()\n",
    "results = []\n",
    "ratios = []\n",
    "\n",
    "for file in selected_files:\n",
    "    f = os.path.basename(file)\n",
    "    objects[f] = sp.SinglePulse(file)\n",
    "    isotopes = objects[f].measured_isotopes.tolist()\n",
    "\n",
    "    for i in isotopes:\n",
    "        criterion, threshold = 10, 50\n",
    "        if i == \"Eu/153\":\n",
    "            criterion, threshold = 10, 40\n",
    "        if i == \"EuO/169\":\n",
    "            criterion, threshold = 1, 5\n",
    "        objects[f].timescale(i, cycle_time=50e-6)\n",
    "        objects[f].savgol(i)\n",
    "        objects[f].peak_finding(i, threshold=threshold, distance=100e-3)\n",
    "        objects[f].peak_width(i, criterion=criterion)\n",
    "        objects[f].peak_area(i, resize=1.5)\n",
    "        objects[f].plot(i, peaks=True, integration=True)\n",
    "\n",
    "        results.append(\n",
    "            {\n",
    "                'species': i,\n",
    "                'no. of peaks': len(objects[f].peaks[i]),\n",
    "                f'peak width ({criterion}% criterion)': objects[f].peaks[i]['width'].mean() * 1e6,\n",
    "                'peak width stdev': objects[f].peaks[i]['width'].std() * 1e6,\n",
    "                f'peak height': objects[f].peaks[i]['height'].mean(),\n",
    "                'peak height stdev': objects[f].peaks[i]['height'].std(),\n",
    "                'peak area': objects[f].peaks[i]['area'].mean(),\n",
    "                'peak area stdev': objects[f].peaks[i]['area'].std()\n",
    "            }\n",
    "        )\n",
    "        print(f\"Done: {f}\")\n",
    "\n",
    "    #ratios.append(objects[f].area_ratio(\"Eu/153\", \"EuO/169\"))\n",
    "\n",
    "#ratios = pd.concat(ratios)\n",
    "#ratios = ratios.reset_index(drop=True).squeeze()\n",
    "#print(ratios.mean(), ratios.std())\n",
    "\n",
    "results = pd.DataFrame(results)\n",
    "#area_euo = results[results[\"species\"] == \"EuO/169\"][\"peak area\"].mean()\n",
    "#area_eu = results[results[\"species\"] == \"Eu/153\"][\"peak area\"].mean()\n",
    "#ratio = area_euo / (area_euo + area_eu)\n",
    "print(results)\n",
    "#print(ratio)\n",
    "\n",
    "\n",
    "#results = results.apply(pd.to_numeric, errors='ignore')\n",
    "#results = results.dropna(axis=1, how='all')\n",
    "#results = results.fillna(0)\n",
    "#results.to_excel('output.xlsx')\n",
    "#print(results)\n",
    "\n",
    "sp.SinglePulse.fig.show_dash()"
   ]
  },
  {
   "cell_type": "code",
   "execution_count": null,
   "metadata": {},
   "outputs": [],
   "source": []
  }
 ],
 "metadata": {
  "kernelspec": {
   "display_name": "venv",
   "language": "python",
   "name": "python3"
  },
  "language_info": {
   "codemirror_mode": {
    "name": "ipython",
    "version": 3
   },
   "file_extension": ".py",
   "mimetype": "text/x-python",
   "name": "python",
   "nbconvert_exporter": "python",
   "pygments_lexer": "ipython3",
   "version": "3.13.2"
  }
 },
 "nbformat": 4,
 "nbformat_minor": 2
}
